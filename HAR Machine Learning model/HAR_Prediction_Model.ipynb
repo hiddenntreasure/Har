{
  "nbformat": 4,
  "nbformat_minor": 0,
  "metadata": {
    "colab": {
      "name": "HAR Prediction Model.ipynb",
      "provenance": [],
      "collapsed_sections": []
    },
    "kernelspec": {
      "name": "python3",
      "display_name": "Python 3"
    }
  },
  "cells": [
    {
      "cell_type": "markdown",
      "metadata": {
        "id": "DCFrWI9TusPm",
        "colab_type": "text"
      },
      "source": [
        "#Load data"
      ]
    },
    {
      "cell_type": "code",
      "metadata": {
        "id": "f_7PupFTsrMT",
        "colab_type": "code",
        "colab": {}
      },
      "source": [
        "import numpy as np\n",
        "import pandas as pd"
      ],
      "execution_count": 0,
      "outputs": []
    },
    {
      "cell_type": "code",
      "metadata": {
        "id": "5FXoiulztOdw",
        "colab_type": "code",
        "colab": {}
      },
      "source": [
        "train = pd.read_csv('/content/drive/My Drive/Colab Notebooks/CS 10: Human Acitivity Recognition/train.csv')\n",
        "test = pd.read_csv('/content/drive/My Drive/Colab Notebooks/CS 10: Human Acitivity Recognition/test.csv')"
      ],
      "execution_count": 0,
      "outputs": []
    },
    {
      "cell_type": "code",
      "metadata": {
        "id": "QwHo1m_uthd9",
        "colab_type": "code",
        "outputId": "72968d87-5f06-46b3-b2e6-5a223b0ee7f9",
        "colab": {
          "base_uri": "https://localhost:8080/",
          "height": 51
        }
      },
      "source": [
        "print(train.shape)\n",
        "print(test.shape)"
      ],
      "execution_count": 0,
      "outputs": [
        {
          "output_type": "stream",
          "text": [
            "(7352, 564)\n",
            "(2947, 564)\n"
          ],
          "name": "stdout"
        }
      ]
    },
    {
      "cell_type": "code",
      "metadata": {
        "id": "kI6f99MBtwVu",
        "colab_type": "code",
        "outputId": "f98cb988-9a81-4752-a00e-c553e6227389",
        "colab": {
          "base_uri": "https://localhost:8080/",
          "height": 129
        }
      },
      "source": [
        "train.sample()"
      ],
      "execution_count": 0,
      "outputs": [
        {
          "output_type": "execute_result",
          "data": {
            "text/html": [
              "<div>\n",
              "<style scoped>\n",
              "    .dataframe tbody tr th:only-of-type {\n",
              "        vertical-align: middle;\n",
              "    }\n",
              "\n",
              "    .dataframe tbody tr th {\n",
              "        vertical-align: top;\n",
              "    }\n",
              "\n",
              "    .dataframe thead th {\n",
              "        text-align: right;\n",
              "    }\n",
              "</style>\n",
              "<table border=\"1\" class=\"dataframe\">\n",
              "  <thead>\n",
              "    <tr style=\"text-align: right;\">\n",
              "      <th></th>\n",
              "      <th>tBodyAccmeanX</th>\n",
              "      <th>tBodyAccmeanY</th>\n",
              "      <th>tBodyAccmeanZ</th>\n",
              "      <th>tBodyAccstdX</th>\n",
              "      <th>tBodyAccstdY</th>\n",
              "      <th>tBodyAccstdZ</th>\n",
              "      <th>tBodyAccmadX</th>\n",
              "      <th>tBodyAccmadY</th>\n",
              "      <th>tBodyAccmadZ</th>\n",
              "      <th>tBodyAccmaxX</th>\n",
              "      <th>tBodyAccmaxY</th>\n",
              "      <th>tBodyAccmaxZ</th>\n",
              "      <th>tBodyAccminX</th>\n",
              "      <th>tBodyAccminY</th>\n",
              "      <th>tBodyAccminZ</th>\n",
              "      <th>tBodyAccsma</th>\n",
              "      <th>tBodyAccenergyX</th>\n",
              "      <th>tBodyAccenergyY</th>\n",
              "      <th>tBodyAccenergyZ</th>\n",
              "      <th>tBodyAcciqrX</th>\n",
              "      <th>tBodyAcciqrY</th>\n",
              "      <th>tBodyAcciqrZ</th>\n",
              "      <th>tBodyAccentropyX</th>\n",
              "      <th>tBodyAccentropyY</th>\n",
              "      <th>tBodyAccentropyZ</th>\n",
              "      <th>tBodyAccarCoeffX1</th>\n",
              "      <th>tBodyAccarCoeffX2</th>\n",
              "      <th>tBodyAccarCoeffX3</th>\n",
              "      <th>tBodyAccarCoeffX4</th>\n",
              "      <th>tBodyAccarCoeffY1</th>\n",
              "      <th>tBodyAccarCoeffY2</th>\n",
              "      <th>tBodyAccarCoeffY3</th>\n",
              "      <th>tBodyAccarCoeffY4</th>\n",
              "      <th>tBodyAccarCoeffZ1</th>\n",
              "      <th>tBodyAccarCoeffZ2</th>\n",
              "      <th>tBodyAccarCoeffZ3</th>\n",
              "      <th>tBodyAccarCoeffZ4</th>\n",
              "      <th>tBodyAcccorrelationXY</th>\n",
              "      <th>tBodyAcccorrelationXZ</th>\n",
              "      <th>tBodyAcccorrelationYZ</th>\n",
              "      <th>...</th>\n",
              "      <th>fBodyBodyAccJerkMagmaxInds</th>\n",
              "      <th>fBodyBodyAccJerkMagmeanFreq</th>\n",
              "      <th>fBodyBodyAccJerkMagskewness</th>\n",
              "      <th>fBodyBodyAccJerkMagkurtosis</th>\n",
              "      <th>fBodyBodyGyroMagmean</th>\n",
              "      <th>fBodyBodyGyroMagstd</th>\n",
              "      <th>fBodyBodyGyroMagmad</th>\n",
              "      <th>fBodyBodyGyroMagmax</th>\n",
              "      <th>fBodyBodyGyroMagmin</th>\n",
              "      <th>fBodyBodyGyroMagsma</th>\n",
              "      <th>fBodyBodyGyroMagenergy</th>\n",
              "      <th>fBodyBodyGyroMagiqr</th>\n",
              "      <th>fBodyBodyGyroMagentropy</th>\n",
              "      <th>fBodyBodyGyroMagmaxInds</th>\n",
              "      <th>fBodyBodyGyroMagmeanFreq</th>\n",
              "      <th>fBodyBodyGyroMagskewness</th>\n",
              "      <th>fBodyBodyGyroMagkurtosis</th>\n",
              "      <th>fBodyBodyGyroJerkMagmean</th>\n",
              "      <th>fBodyBodyGyroJerkMagstd</th>\n",
              "      <th>fBodyBodyGyroJerkMagmad</th>\n",
              "      <th>fBodyBodyGyroJerkMagmax</th>\n",
              "      <th>fBodyBodyGyroJerkMagmin</th>\n",
              "      <th>fBodyBodyGyroJerkMagsma</th>\n",
              "      <th>fBodyBodyGyroJerkMagenergy</th>\n",
              "      <th>fBodyBodyGyroJerkMagiqr</th>\n",
              "      <th>fBodyBodyGyroJerkMagentropy</th>\n",
              "      <th>fBodyBodyGyroJerkMagmaxInds</th>\n",
              "      <th>fBodyBodyGyroJerkMagmeanFreq</th>\n",
              "      <th>fBodyBodyGyroJerkMagskewness</th>\n",
              "      <th>fBodyBodyGyroJerkMagkurtosis</th>\n",
              "      <th>angletBodyAccMeangravity</th>\n",
              "      <th>angletBodyAccJerkMeangravityMean</th>\n",
              "      <th>angletBodyGyroMeangravityMean</th>\n",
              "      <th>angletBodyGyroJerkMeangravityMean</th>\n",
              "      <th>angleXgravityMean</th>\n",
              "      <th>angleYgravityMean</th>\n",
              "      <th>angleZgravityMean</th>\n",
              "      <th>subject</th>\n",
              "      <th>Activity</th>\n",
              "      <th>ActivityName</th>\n",
              "    </tr>\n",
              "  </thead>\n",
              "  <tbody>\n",
              "    <tr>\n",
              "      <th>4254</th>\n",
              "      <td>0.279726</td>\n",
              "      <td>-0.023457</td>\n",
              "      <td>-0.102515</td>\n",
              "      <td>-0.993204</td>\n",
              "      <td>-0.970978</td>\n",
              "      <td>-0.985139</td>\n",
              "      <td>-0.994361</td>\n",
              "      <td>-0.970649</td>\n",
              "      <td>-0.983849</td>\n",
              "      <td>-0.929654</td>\n",
              "      <td>-0.56582</td>\n",
              "      <td>-0.807634</td>\n",
              "      <td>0.845605</td>\n",
              "      <td>0.677811</td>\n",
              "      <td>0.846601</td>\n",
              "      <td>-0.985299</td>\n",
              "      <td>-0.999947</td>\n",
              "      <td>-0.999657</td>\n",
              "      <td>-0.999646</td>\n",
              "      <td>-0.994569</td>\n",
              "      <td>-0.974317</td>\n",
              "      <td>-0.979409</td>\n",
              "      <td>-0.521595</td>\n",
              "      <td>-0.66579</td>\n",
              "      <td>-0.40927</td>\n",
              "      <td>0.069097</td>\n",
              "      <td>0.010114</td>\n",
              "      <td>-0.00473</td>\n",
              "      <td>0.436629</td>\n",
              "      <td>-0.012403</td>\n",
              "      <td>0.073118</td>\n",
              "      <td>-0.22517</td>\n",
              "      <td>0.364018</td>\n",
              "      <td>0.075041</td>\n",
              "      <td>0.031563</td>\n",
              "      <td>0.034797</td>\n",
              "      <td>-0.00444</td>\n",
              "      <td>0.046248</td>\n",
              "      <td>-0.11008</td>\n",
              "      <td>0.305437</td>\n",
              "      <td>...</td>\n",
              "      <td>0.460317</td>\n",
              "      <td>0.572294</td>\n",
              "      <td>-0.842623</td>\n",
              "      <td>-0.956765</td>\n",
              "      <td>-0.989453</td>\n",
              "      <td>-0.987145</td>\n",
              "      <td>-0.987482</td>\n",
              "      <td>-0.985233</td>\n",
              "      <td>-0.985423</td>\n",
              "      <td>-0.989453</td>\n",
              "      <td>-0.999868</td>\n",
              "      <td>-0.988622</td>\n",
              "      <td>-0.787033</td>\n",
              "      <td>-0.948718</td>\n",
              "      <td>0.076666</td>\n",
              "      <td>-0.043334</td>\n",
              "      <td>-0.336219</td>\n",
              "      <td>-0.991941</td>\n",
              "      <td>-0.993807</td>\n",
              "      <td>-0.99333</td>\n",
              "      <td>-0.994927</td>\n",
              "      <td>-0.984776</td>\n",
              "      <td>-0.991941</td>\n",
              "      <td>-0.99995</td>\n",
              "      <td>-0.99532</td>\n",
              "      <td>-0.923452</td>\n",
              "      <td>-0.746032</td>\n",
              "      <td>0.267812</td>\n",
              "      <td>-0.430158</td>\n",
              "      <td>-0.804633</td>\n",
              "      <td>-0.054616</td>\n",
              "      <td>0.460119</td>\n",
              "      <td>0.329919</td>\n",
              "      <td>0.59974</td>\n",
              "      <td>-0.915942</td>\n",
              "      <td>0.113359</td>\n",
              "      <td>0.07767</td>\n",
              "      <td>21</td>\n",
              "      <td>4</td>\n",
              "      <td>SITTING</td>\n",
              "    </tr>\n",
              "  </tbody>\n",
              "</table>\n",
              "<p>1 rows × 564 columns</p>\n",
              "</div>"
            ],
            "text/plain": [
              "      tBodyAccmeanX  tBodyAccmeanY  ...  Activity  ActivityName\n",
              "4254       0.279726      -0.023457  ...         4       SITTING\n",
              "\n",
              "[1 rows x 564 columns]"
            ]
          },
          "metadata": {
            "tags": []
          },
          "execution_count": 5
        }
      ]
    },
    {
      "cell_type": "markdown",
      "metadata": {
        "id": "fO-igXUotnYd",
        "colab_type": "text"
      },
      "source": [
        "## Drop last three columns and keep 'ActivityName' column only"
      ]
    },
    {
      "cell_type": "code",
      "metadata": {
        "id": "dPDxdr-qtm9f",
        "colab_type": "code",
        "colab": {}
      },
      "source": [
        "X_train = train.drop(['subject','Activity','ActivityName'],axis=1)\n",
        "y_train = train['ActivityName']"
      ],
      "execution_count": 0,
      "outputs": []
    },
    {
      "cell_type": "code",
      "metadata": {
        "id": "QU6_cXSSuM0X",
        "colab_type": "code",
        "outputId": "a8fa80f6-c016-4135-a94b-00bc0ef8d556",
        "colab": {
          "base_uri": "https://localhost:8080/",
          "height": 119
        }
      },
      "source": [
        "y_train.head()"
      ],
      "execution_count": 0,
      "outputs": [
        {
          "output_type": "execute_result",
          "data": {
            "text/plain": [
              "0    STANDING\n",
              "1    STANDING\n",
              "2    STANDING\n",
              "3    STANDING\n",
              "4    STANDING\n",
              "Name: ActivityName, dtype: object"
            ]
          },
          "metadata": {
            "tags": []
          },
          "execution_count": 7
        }
      ]
    },
    {
      "cell_type": "code",
      "metadata": {
        "id": "3KH_ghuJuUvO",
        "colab_type": "code",
        "colab": {}
      },
      "source": [
        "X_test = test.drop(['subject','Activity','ActivityName'],axis=1)\n",
        "y_test = test.ActivityName"
      ],
      "execution_count": 0,
      "outputs": []
    },
    {
      "cell_type": "markdown",
      "metadata": {
        "id": "X-PrRPNku3RG",
        "colab_type": "text"
      },
      "source": [
        "# Lets model our data"
      ]
    },
    {
      "cell_type": "markdown",
      "metadata": {
        "id": "6zWICgdlu66m",
        "colab_type": "text"
      },
      "source": [
        "## labels that are useful in plotting confusion matrix"
      ]
    },
    {
      "cell_type": "code",
      "metadata": {
        "id": "U4BTWtkjvDKF",
        "colab_type": "code",
        "colab": {}
      },
      "source": [
        "labels=['LAYING', 'SITTING','STANDING','WALKING','WALKING_DOWNSTAIRS','WALKING_UPSTAIRS']"
      ],
      "execution_count": 0,
      "outputs": []
    },
    {
      "cell_type": "markdown",
      "metadata": {
        "id": "faodf0J5vM2_",
        "colab_type": "text"
      },
      "source": [
        "**Function to plot the confusion matrix**"
      ]
    },
    {
      "cell_type": "code",
      "metadata": {
        "id": "DxUQuPENvJyN",
        "colab_type": "code",
        "colab": {}
      },
      "source": [
        "import itertools\n",
        "import numpy as np\n",
        "import matplotlib.pyplot as plt\n",
        "from sklearn.metrics import confusion_matrix\n",
        "plt.rcParams[\"font.family\"] = 'DejaVu Sans'\n",
        "\n",
        "def plot_confusion_matrix(cm, classes,\n",
        "                          normalize=False,\n",
        "                          title='Confusion matrix',\n",
        "                          cmap=plt.cm.Blues):\n",
        "    if normalize:\n",
        "        cm = cm.astype('float') / cm.sum(axis=1)[:, np.newaxis]\n",
        "\n",
        "    plt.imshow(cm, interpolation='nearest', cmap=cmap)\n",
        "    plt.title(title)\n",
        "    plt.colorbar()\n",
        "    tick_marks = np.arange(len(classes))\n",
        "    plt.xticks(tick_marks, classes, rotation=90)\n",
        "    plt.yticks(tick_marks, classes)\n",
        "\n",
        "    fmt = '.2f' if normalize else 'd'\n",
        "    thresh = cm.max() / 2.\n",
        "    for i, j in itertools.product(range(cm.shape[0]), range(cm.shape[1])):\n",
        "        plt.text(j, i, format(cm[i, j], fmt),\n",
        "                 horizontalalignment=\"center\",\n",
        "                 color=\"white\" if cm[i, j] > thresh else \"black\")\n",
        "\n",
        "    plt.tight_layout()\n",
        "    plt.ylabel('True label')\n",
        "    plt.xlabel('Predicted label')"
      ],
      "execution_count": 0,
      "outputs": []
    },
    {
      "cell_type": "markdown",
      "metadata": {
        "id": "UwMLhDvbyAgz",
        "colab_type": "text"
      },
      "source": [
        "### Generic function to run any model specified"
      ]
    },
    {
      "cell_type": "code",
      "metadata": {
        "id": "Ci6osXm0yKAO",
        "colab_type": "code",
        "colab": {}
      },
      "source": [
        "from datetime import datetime\n",
        "def perform_model(model,X_train,y_train,X_test,y_test,\\\n",
        "                  class_labels,cm_normalize=True,\\\n",
        "                  print_cm=True,cm_cmap=plt.cm.Greens):\n",
        "  # used to store results at various place\n",
        "  results = dict()\n",
        "\n",
        "  # training\n",
        "  train_start_time = datetime.now()\n",
        "  print('training the model..')\n",
        "  model.fit(X_train,y_train)\n",
        "  print('Done')\n",
        "  train_end_time= datetime.now()\n",
        "  results['training_time'] = train_end_time -train_start_time\n",
        "  print(results['training_time'])\n",
        "\n",
        "  # predict on test data\n",
        "  print('Predicting test data')\n",
        "  test_start_time = datetime.now()\n",
        "  y_pred = model.predict(X_test)\n",
        "  test_end_time = datetime.now()\n",
        "  print('Done')\n",
        "  results['testing_time'] = test_end_time-test_start_time\n",
        "  print(results['testing_time'])\n",
        "  results['predicted']= y_pred\n",
        "\n",
        "  # Accuracy\n",
        "  print('Accuracy')\n",
        "  accuracy = metrics.accuracy_score(y_true= y_test,y_pred=y_pred)\n",
        "  results['accuracy']  = accuracy\n",
        "  print('accuracy')\n",
        "\n",
        "  # Confusion Matrix\n",
        "  print('Confusion Matrix')\n",
        "  cm = metrics.confusion_matrix(y_test,y_pred)\n",
        "  results['confusion_matrix']  = cm\n",
        "\n",
        "  if print_cm:\n",
        "    print(cm)\n",
        "\n",
        "  plt.figure(figsize=(8,8))\n",
        "  plt.grid(b=False)\n",
        "  plot_confusion_matrix(cm,classes=class_labels,normalize=True,\\\n",
        "                        title='Normalized confusion matrix',cmap=cm_cmap)\n",
        "  plt.show()\n",
        "\n",
        "  # Classification Report\n",
        "  print('Classification Report')\n",
        "  classification_report = metrics.classification_report(y_test,y_pred)\n",
        "  results['classification_report'] = classification_report\n",
        "  print(classification_report)\n",
        "\n",
        "  results ['model'] = model\n",
        "\n",
        "  return results"
      ],
      "execution_count": 0,
      "outputs": []
    },
    {
      "cell_type": "markdown",
      "metadata": {
        "id": "Z8LUX2882EsR",
        "colab_type": "text"
      },
      "source": [
        "### Method to print the gridsearch Attributes"
      ]
    },
    {
      "cell_type": "code",
      "metadata": {
        "id": "HYILIoZq2K4H",
        "colab_type": "code",
        "colab": {}
      },
      "source": [
        "def print_grid_search_attributes(model):\n",
        "  print('Best Estimator')\n",
        "  print(model.best_estimator_)\n",
        "\n",
        "  print('Best parameters')\n",
        "  print(model.best_params_)\n",
        "\n",
        "  print('No of Crossvalidation sets')\n",
        "  print(model.n_splits_)\n",
        "\n",
        "  print('Best Score')\n",
        "  print(model.best_score_)"
      ],
      "execution_count": 0,
      "outputs": []
    },
    {
      "cell_type": "markdown",
      "metadata": {
        "id": "tex1njyQbIPk",
        "colab_type": "text"
      },
      "source": [
        "# 1.Logistic Regression with Grid Search"
      ]
    },
    {
      "cell_type": "code",
      "metadata": {
        "id": "TPKzkgvo2-yH",
        "colab_type": "code",
        "colab": {}
      },
      "source": [
        "from sklearn import linear_model\n",
        "from sklearn import metrics\n",
        "\n",
        "from sklearn.model_selection import GridSearchCV"
      ],
      "execution_count": 0,
      "outputs": []
    },
    {
      "cell_type": "code",
      "metadata": {
        "id": "cIOLw-1lbZlo",
        "colab_type": "code",
        "outputId": "9ae6f172-7043-4926-94ee-67b4f1dfc23f",
        "colab": {
          "base_uri": "https://localhost:8080/",
          "height": 1000
        }
      },
      "source": [
        "parameters = {'C':[0.01,0.1,1,10,20,30],'penalty':['l2','l1']}\n",
        "log_reg = linear_model.LogisticRegression()\n",
        "log_reg_grid = GridSearchCV(log_reg,param_grid=parameters,cv=3,verbose=1,n_jobs=-1)\n",
        "log_reg_grid_results = perform_model(log_reg_grid,X_train,y_train,X_test,y_test,class_labels=labels)"
      ],
      "execution_count": 0,
      "outputs": [
        {
          "output_type": "stream",
          "text": [
            "training the model..\n",
            "Fitting 3 folds for each of 12 candidates, totalling 36 fits\n"
          ],
          "name": "stdout"
        },
        {
          "output_type": "stream",
          "text": [
            "[Parallel(n_jobs=-1)]: Using backend LokyBackend with 2 concurrent workers.\n",
            "[Parallel(n_jobs=-1)]: Done  36 out of  36 | elapsed:   25.5s finished\n",
            "/usr/local/lib/python3.6/dist-packages/sklearn/linear_model/_logistic.py:940: ConvergenceWarning: lbfgs failed to converge (status=1):\n",
            "STOP: TOTAL NO. of ITERATIONS REACHED LIMIT.\n",
            "\n",
            "Increase the number of iterations (max_iter) or scale the data as shown in:\n",
            "    https://scikit-learn.org/stable/modules/preprocessing.html\n",
            "Please also refer to the documentation for alternative solver options:\n",
            "    https://scikit-learn.org/stable/modules/linear_model.html#logistic-regression\n",
            "  extra_warning_msg=_LOGISTIC_SOLVER_CONVERGENCE_MSG)\n"
          ],
          "name": "stderr"
        },
        {
          "output_type": "stream",
          "text": [
            "Done\n",
            "0:00:28.357746\n",
            "Predicting test data\n",
            "Done\n",
            "0:00:00.009029\n",
            "Accuracy\n",
            "accuracy\n",
            "Confusion Matrix\n",
            "[[537   0   0   0   0   0]\n",
            " [  0 431  57   0   0   3]\n",
            " [  0  15 517   0   0   0]\n",
            " [  0   0   0 493   2   1]\n",
            " [  0   0   0   4 402  14]\n",
            " [  0   0   0  25   1 445]]\n"
          ],
          "name": "stdout"
        },
        {
          "output_type": "display_data",
          "data": {
            "image/png": "[encoded data removed]",
            "text/plain": [
              "<Figure size 576x576 with 2 Axes>"
            ]
          },
          "metadata": {
            "tags": []
          }
        },
        {
          "output_type": "stream",
          "text": [
            "Classification Report\n",
            "                    precision    recall  f1-score   support\n",
            "\n",
            "            LAYING       1.00      1.00      1.00       537\n",
            "           SITTING       0.97      0.88      0.92       491\n",
            "          STANDING       0.90      0.97      0.93       532\n",
            "           WALKING       0.94      0.99      0.97       496\n",
            "WALKING_DOWNSTAIRS       0.99      0.96      0.97       420\n",
            "  WALKING_UPSTAIRS       0.96      0.94      0.95       471\n",
            "\n",
            "          accuracy                           0.96      2947\n",
            "         macro avg       0.96      0.96      0.96      2947\n",
            "      weighted avg       0.96      0.96      0.96      2947\n",
            "\n"
          ],
          "name": "stdout"
        }
      ]
    },
    {
      "cell_type": "code",
      "metadata": {
        "id": "Yv0uG1Uge4se",
        "colab_type": "code",
        "outputId": "ef626e41-5b25-4d8b-c9bb-bd509e1b50ca",
        "colab": {
          "base_uri": "https://localhost:8080/",
          "height": 576
        }
      },
      "source": [
        "plt.figure(figsize=(8,8))\n",
        "plt.grid(b=False)\n",
        "plot_confusion_matrix(log_reg_grid_results['confusion_matrix'], classes=labels, cmap=plt.cm.Greens, )\n",
        "plt.show()"
      ],
      "execution_count": 0,
      "outputs": [
        {
          "output_type": "display_data",
          "data": {
            "image/png": "[encoded data removed]",
            "text/plain": [
              "<Figure size 576x576 with 2 Axes>"
            ]
          },
          "metadata": {
            "tags": []
          }
        }
      ]
    },
    {
      "cell_type": "code",
      "metadata": {
        "id": "TeCXb6DqfUnr",
        "colab_type": "code",
        "outputId": "d731554f-a238-4719-d322-b92e33924c03",
        "colab": {
          "base_uri": "https://localhost:8080/",
          "height": 221
        }
      },
      "source": [
        "# observe the attributes of the model \n",
        "print_grid_search_attributes(log_reg_grid_results['model'])"
      ],
      "execution_count": 0,
      "outputs": [
        {
          "output_type": "stream",
          "text": [
            "Best Estimator\n",
            "LogisticRegression(C=1, class_weight=None, dual=False, fit_intercept=True,\n",
            "                   intercept_scaling=1, l1_ratio=None, max_iter=100,\n",
            "                   multi_class='auto', n_jobs=None, penalty='l2',\n",
            "                   random_state=None, solver='lbfgs', tol=0.0001, verbose=0,\n",
            "                   warm_start=False)\n",
            "Best parameters\n",
            "{'C': 1, 'penalty': 'l2'}\n",
            "No of Crossvalidation sets\n",
            "3\n",
            "Best Score\n",
            "0.9358015748118914\n"
          ],
          "name": "stdout"
        }
      ]
    },
    {
      "cell_type": "markdown",
      "metadata": {
        "id": "hoy5633YzL_9",
        "colab_type": "text"
      },
      "source": [
        "##Linear SVC with parameter tuning using Grid Search"
      ]
    },
    {
      "cell_type": "code",
      "metadata": {
        "id": "nfJsIRTBA6Dh",
        "colab_type": "code",
        "colab": {}
      },
      "source": [
        "from sklearn.svm import LinearSVC"
      ],
      "execution_count": 0,
      "outputs": []
    },
    {
      "cell_type": "code",
      "metadata": {
        "id": "jCanr2EPBJCs",
        "colab_type": "code",
        "outputId": "551fbd96-a098-42ff-ff1e-362cdc507230",
        "colab": {
          "base_uri": "https://localhost:8080/",
          "height": 1000
        }
      },
      "source": [
        "parameters = {'C': [0.125,0.5,1,2,8,16]}\n",
        "lr_svc = LinearSVC(tol=0.00005)\n",
        "lr_svc_grid = GridSearchCV(lr_svc,param_grid = parameters ,n_jobs=-1,verbose=1)\n",
        "lr_svc_grid_results = perform_model(lr_svc_grid,X_train,y_train,X_test,y_test,class_labels=labels)\n"
      ],
      "execution_count": 0,
      "outputs": [
        {
          "output_type": "stream",
          "text": [
            "training the model..\n",
            "Fitting 5 folds for each of 6 candidates, totalling 30 fits\n"
          ],
          "name": "stdout"
        },
        {
          "output_type": "stream",
          "text": [
            "[Parallel(n_jobs=-1)]: Using backend LokyBackend with 2 concurrent workers.\n",
            "[Parallel(n_jobs=-1)]: Done  30 out of  30 | elapsed:  1.4min finished\n",
            "/usr/local/lib/python3.6/dist-packages/sklearn/svm/_base.py:947: ConvergenceWarning: Liblinear failed to converge, increase the number of iterations.\n",
            "  \"the number of iterations.\", ConvergenceWarning)\n"
          ],
          "name": "stderr"
        },
        {
          "output_type": "stream",
          "text": [
            "Done\n",
            "0:01:27.232573\n",
            "Predicting test data\n",
            "Done\n",
            "0:00:00.008317\n",
            "Accuracy\n",
            "accuracy\n",
            "Confusion Matrix\n",
            "[[537   0   0   0   0   0]\n",
            " [  2 431  55   0   0   3]\n",
            " [  0  12 519   1   0   0]\n",
            " [  0   0   0 496   0   0]\n",
            " [  0   0   0   2 413   5]\n",
            " [  0   0   0  14   1 456]]\n"
          ],
          "name": "stdout"
        },
        {
          "output_type": "display_data",
          "data": {
            "image/png": "[encoded data removed]",
            "text/plain": [
              "<Figure size 576x576 with 2 Axes>"
            ]
          },
          "metadata": {
            "tags": []
          }
        },
        {
          "output_type": "stream",
          "text": [
            "Classification Report\n",
            "                    precision    recall  f1-score   support\n",
            "\n",
            "            LAYING       1.00      1.00      1.00       537\n",
            "           SITTING       0.97      0.88      0.92       491\n",
            "          STANDING       0.90      0.98      0.94       532\n",
            "           WALKING       0.97      1.00      0.98       496\n",
            "WALKING_DOWNSTAIRS       1.00      0.98      0.99       420\n",
            "  WALKING_UPSTAIRS       0.98      0.97      0.98       471\n",
            "\n",
            "          accuracy                           0.97      2947\n",
            "         macro avg       0.97      0.97      0.97      2947\n",
            "      weighted avg       0.97      0.97      0.97      2947\n",
            "\n"
          ],
          "name": "stdout"
        }
      ]
    },
    {
      "cell_type": "code",
      "metadata": {
        "id": "w6NIjirXBI-m",
        "colab_type": "code",
        "outputId": "c681e93f-9e51-4603-f532-8976e23db1a9",
        "colab": {
          "base_uri": "https://localhost:8080/",
          "height": 204
        }
      },
      "source": [
        "print_grid_search_attributes(lr_svc_grid_results['model'])"
      ],
      "execution_count": 0,
      "outputs": [
        {
          "output_type": "stream",
          "text": [
            "Best Estimator\n",
            "LinearSVC(C=2, class_weight=None, dual=True, fit_intercept=True,\n",
            "          intercept_scaling=1, loss='squared_hinge', max_iter=1000,\n",
            "          multi_class='ovr', penalty='l2', random_state=None, tol=5e-05,\n",
            "          verbose=0)\n",
            "Best parameters\n",
            "{'C': 2}\n",
            "No of Crossvalidation sets\n",
            "5\n",
            "Best Score\n",
            "0.9424721023691598\n"
          ],
          "name": "stdout"
        }
      ]
    },
    {
      "cell_type": "markdown",
      "metadata": {
        "id": "gisTjrPPDJ7B",
        "colab_type": "text"
      },
      "source": [
        "##Kernel SVM with parameter tuinning using Grid Search"
      ]
    },
    {
      "cell_type": "code",
      "metadata": {
        "id": "fiDJ85voDZDh",
        "colab_type": "code",
        "outputId": "5b249fcb-3c78-4709-fbb4-52438a72d380",
        "colab": {
          "base_uri": "https://localhost:8080/",
          "height": 1000
        }
      },
      "source": [
        "from sklearn.svm import SVC\n",
        "parameters = {'C':[2,8,16],'gamma':[0.0078125, 0.125, 2]}\n",
        "rvf_svm = SVC(kernel='rbf')\n",
        "rvf_svm_grid  = GridSearchCV(rvf_svm,param_grid = parameters,n_jobs=-1,verbose=1)\n",
        "rvf_svm_grid_results = perform_model(rvf_svm_grid,X_train,y_train,X_test,y_test,class_labels=labels,)"
      ],
      "execution_count": 0,
      "outputs": [
        {
          "output_type": "stream",
          "text": [
            "training the model..\n",
            "Fitting 5 folds for each of 9 candidates, totalling 45 fits\n"
          ],
          "name": "stdout"
        },
        {
          "output_type": "stream",
          "text": [
            "[Parallel(n_jobs=-1)]: Using backend LokyBackend with 2 concurrent workers.\n",
            "/usr/local/lib/python3.6/dist-packages/joblib/externals/loky/process_executor.py:706: UserWarning: A worker stopped while some jobs were given to the executor. This can be caused by a too short worker timeout or by a memory leak.\n",
            "  \"timeout or by a memory leak.\", UserWarning\n",
            "[Parallel(n_jobs=-1)]: Done  45 out of  45 | elapsed: 13.5min finished\n"
          ],
          "name": "stderr"
        },
        {
          "output_type": "stream",
          "text": [
            "Done\n",
            "0:13:35.165489\n",
            "Predicting test data\n",
            "Done\n",
            "0:00:03.036089\n",
            "Accuracy\n",
            "accuracy\n",
            "Confusion Matrix\n",
            "[[537   0   0   0   0   0]\n",
            " [  0 441  48   0   0   2]\n",
            " [  0  12 520   0   0   0]\n",
            " [  0   0   0 489   2   5]\n",
            " [  0   0   0   4 397  19]\n",
            " [  0   0   0  17   1 453]]\n"
          ],
          "name": "stdout"
        },
        {
          "output_type": "display_data",
          "data": {
            "image/png": "[encoded data removed]",
            "text/plain": [
              "<Figure size 576x576 with 2 Axes>"
            ]
          },
          "metadata": {
            "tags": []
          }
        },
        {
          "output_type": "stream",
          "text": [
            "Classification Report\n",
            "                    precision    recall  f1-score   support\n",
            "\n",
            "            LAYING       1.00      1.00      1.00       537\n",
            "           SITTING       0.97      0.90      0.93       491\n",
            "          STANDING       0.92      0.98      0.95       532\n",
            "           WALKING       0.96      0.99      0.97       496\n",
            "WALKING_DOWNSTAIRS       0.99      0.95      0.97       420\n",
            "  WALKING_UPSTAIRS       0.95      0.96      0.95       471\n",
            "\n",
            "          accuracy                           0.96      2947\n",
            "         macro avg       0.96      0.96      0.96      2947\n",
            "      weighted avg       0.96      0.96      0.96      2947\n",
            "\n"
          ],
          "name": "stdout"
        }
      ]
    },
    {
      "cell_type": "markdown",
      "metadata": {
        "id": "3wV7BsDglm9G",
        "colab_type": "text"
      },
      "source": [
        "## Decision Tree with Grid Search"
      ]
    },
    {
      "cell_type": "code",
      "metadata": {
        "id": "1nE82MO9lw3s",
        "colab_type": "code",
        "outputId": "c4b131e2-77cc-41da-f4a2-7b8dfbb14564",
        "colab": {
          "base_uri": "https://localhost:8080/",
          "height": 1000
        }
      },
      "source": [
        "from sklearn.tree import DecisionTreeClassifier\n",
        "parameters = {'max_depth':np.arange(3,10,2)}\n",
        "dt = DecisionTreeClassifier()\n",
        "dt_grid = GridSearchCV(dt,param_grid=parameters, n_jobs=-1)\n",
        "dt_grid_results = perform_model(dt_grid, X_train, y_train, X_test, y_test, class_labels=labels)\n",
        "print_grid_search_attributes(dt_grid_results['model'])"
      ],
      "execution_count": 0,
      "outputs": [
        {
          "output_type": "stream",
          "text": [
            "training the model..\n",
            "Done\n",
            "0:00:32.948633\n",
            "Predicting test data\n",
            "Done\n",
            "0:00:00.005963\n",
            "Accuracy\n",
            "accuracy\n",
            "Confusion Matrix\n",
            "[[537   0   0   0   0   0]\n",
            " [  0 373 118   0   0   0]\n",
            " [  0  59 473   0   0   0]\n",
            " [  0   0   0 474  16   6]\n",
            " [  0   0   0  30 343  47]\n",
            " [  0   0   0  68  26 377]]\n"
          ],
          "name": "stdout"
        },
        {
          "output_type": "display_data",
          "data": {
            "image/png": "[encoded data removed]",
            "text/plain": [
              "<Figure size 576x576 with 2 Axes>"
            ]
          },
          "metadata": {
            "tags": []
          }
        },
        {
          "output_type": "stream",
          "text": [
            "Classification Report\n",
            "                    precision    recall  f1-score   support\n",
            "\n",
            "            LAYING       1.00      1.00      1.00       537\n",
            "           SITTING       0.86      0.76      0.81       491\n",
            "          STANDING       0.80      0.89      0.84       532\n",
            "           WALKING       0.83      0.96      0.89       496\n",
            "WALKING_DOWNSTAIRS       0.89      0.82      0.85       420\n",
            "  WALKING_UPSTAIRS       0.88      0.80      0.84       471\n",
            "\n",
            "          accuracy                           0.87      2947\n",
            "         macro avg       0.88      0.87      0.87      2947\n",
            "      weighted avg       0.88      0.87      0.87      2947\n",
            "\n",
            "Best Estimator\n",
            "DecisionTreeClassifier(ccp_alpha=0.0, class_weight=None, criterion='gini',\n",
            "                       max_depth=9, max_features=None, max_leaf_nodes=None,\n",
            "                       min_impurity_decrease=0.0, min_impurity_split=None,\n",
            "                       min_samples_leaf=1, min_samples_split=2,\n",
            "                       min_weight_fraction_leaf=0.0, presort='deprecated',\n",
            "                       random_state=None, splitter='best')\n",
            "Best parameters\n",
            "{'max_depth': 9}\n",
            "No of Crossvalidation sets\n",
            "5\n",
            "Best Score\n",
            "0.8514770367698405\n"
          ],
          "name": "stdout"
        }
      ]
    },
    {
      "cell_type": "markdown",
      "metadata": {
        "id": "85BRMYhMl6WE",
        "colab_type": "text"
      },
      "source": [
        "## Random Forest Classifier"
      ]
    },
    {
      "cell_type": "code",
      "metadata": {
        "id": "qVVn7on8mA2y",
        "colab_type": "code",
        "outputId": "0345cafa-0a00-4285-9586-28bfcd7aa37f",
        "colab": {
          "base_uri": "https://localhost:8080/",
          "height": 34
        }
      },
      "source": [
        "from sklearn.ensemble import RandomForestClassifier\n",
        "params = {'n_estimators': np.arange(10,201,20), 'max_depth':np.arange(3,15,2)}\n",
        "rfc = RandomForestClassifier()\n",
        "rfc_grid = GridSearchCV(rfc, param_grid=params, n_jobs=-1)\n",
        "rfc_grid_results = perform_model(rfc_grid, X_train, y_train, X_test, y_test, class_labels=labels)\n",
        "print_grid_search_attributes(rfc_grid_results['model'])"
      ],
      "execution_count": 0,
      "outputs": [
        {
          "output_type": "stream",
          "text": [
            "training the model..\n"
          ],
          "name": "stdout"
        }
      ]
    },
    {
      "cell_type": "markdown",
      "metadata": {
        "id": "q9XJpR45CaWt",
        "colab_type": "text"
      },
      "source": [
        "## Gradient Boosting\n"
      ]
    },
    {
      "cell_type": "code",
      "metadata": {
        "id": "VF555VPyCdjr",
        "colab_type": "code",
        "colab": {}
      },
      "source": [
        "from sklearn.ensemble import GradientBoostingClassifier\n",
        "param_grid = {'max_depth': np.arange(5,8,1), \\\n",
        "             'n_estimators':np.arange(130,170,10)}\n",
        "gbdt = GradientBoostingClassifier()\n",
        "gbdt_grid = GridSearchCV(gbdt, param_grid=param_grid, n_jobs=-1)\n",
        "gbdt_grid_results = perform_model(gbdt_grid, X_train, y_train, X_test, y_test, class_labels=labels)\n",
        "print_grid_search_attributes(gbdt_grid_results['model'])"
      ],
      "execution_count": 0,
      "outputs": []
    },
    {
      "cell_type": "code",
      "metadata": {
        "id": "gHtDnl5cJJLk",
        "colab_type": "code",
        "colab": {}
      },
      "source": [
        "print('\\n                     Accuracy     Error')\n",
        "print('                     ----------   --------')\n",
        "print('Logistic Regression : {:.04}%       {:.04}%'.format(log_reg_grid_results['accuracy'] * 100,\\\n",
        "                                                  100-(log_reg_grid_results['accuracy'] * 100)))\n",
        "\n",
        "print('Linear SVC          : {:.04}%       {:.04}% '.format(lr_svc_grid_results['accuracy'] * 100,\\\n",
        "                                                        100-(lr_svc_grid_results['accuracy'] * 100)))\n",
        "\n",
        "print('rbf SVM classifier  : {:.04}%      {:.04}% '.format(rbf_svm_grid_results['accuracy'] * 100,\\\n",
        "                                                          100-(rbf_svm_grid_results['accuracy'] * 100)))\n",
        "\n",
        "print('DecisionTree        : {:.04}%      {:.04}% '.format(dt_grid_results['accuracy'] * 100,\\\n",
        "                                                        100-(dt_grid_results['accuracy'] * 100)))\n",
        "\n",
        "print('Random Forest       : {:.04}%      {:.04}% '.format(rfc_grid_results['accuracy'] * 100,\\\n",
        "                                                           100-(rfc_grid_results['accuracy'] * 100)))\n",
        "print('GradientBoosting DT : {:.04}%      {:.04}% '.format(rfc_grid_results['accuracy'] * 100,\\\n",
        "                                                        100-(rfc_grid_results['accuracy'] * 100)))"
      ],
      "execution_count": 0,
      "outputs": []
    }
  ]
}