{
  "nbformat": 4,
  "nbformat_minor": 0,
  "metadata": {
    "colab": {
      "name": "HAR-LSTM.ipynb",
      "provenance": [],
      "mount_file_id": "1lpnt8Mngdvqm_RkxX9ywdfDxELxeppt5",
      "authorship_tag": "ABX9TyNR0r/c6wlnFSTsX93Sid7j",
      "include_colab_link": true
    },
    "kernelspec": {
      "name": "python3",
      "display_name": "Python 3"
    }
  },
  "cells": [
    {
      "cell_type": "markdown",
      "metadata": {
        "id": "view-in-github",
        "colab_type": "text"
      },
      "source": [
        "<a href=\"https://colab.research.google.com/github/hiddenntreasure/Har/blob/master/HAR_LSTM.ipynb\" target=\"_parent\"><img src=\"https://colab.research.google.com/assets/colab-badge.svg\" alt=\"Open In Colab\"/></a>"
      ]
    },
    {
      "cell_type": "code",
      "metadata": {
        "id": "ENE8aF2d_2ZH",
        "colab_type": "code",
        "colab": {
          "base_uri": "https://localhost:8080/",
          "height": 156
        },
        "outputId": "477b4b51-571f-445c-ae90-b4a7c3c7d418"
      },
      "source": [
        "import pandas as pd\n",
        "import numpy as np\n",
        "s=pd.Series([1,2,3,4,5])\n",
        "s=s.as_matrix()\n",
        "t=[]\n",
        "o=pd.Series([6,7,8,9,10])\n",
        "o=o.as_matrix()\n",
        "t.append(s)\n",
        "print(t)\n",
        "t.append(o)\n",
        "print(t)\n",
        "t"
      ],
      "execution_count": 3,
      "outputs": [
        {
          "output_type": "stream",
          "text": [
            "[array([1, 2, 3, 4, 5])]\n",
            "[array([1, 2, 3, 4, 5]), array([ 6,  7,  8,  9, 10])]\n"
          ],
          "name": "stdout"
        },
        {
          "output_type": "stream",
          "text": [
            "/usr/local/lib/python3.6/dist-packages/ipykernel_launcher.py:4: FutureWarning: Method .as_matrix will be removed in a future version. Use .values instead.\n",
            "  after removing the cwd from sys.path.\n",
            "/usr/local/lib/python3.6/dist-packages/ipykernel_launcher.py:7: FutureWarning: Method .as_matrix will be removed in a future version. Use .values instead.\n",
            "  import sys\n"
          ],
          "name": "stderr"
        },
        {
          "output_type": "execute_result",
          "data": {
            "text/plain": [
              "[array([1, 2, 3, 4, 5]), array([ 6,  7,  8,  9, 10])]"
            ]
          },
          "metadata": {
            "tags": []
          },
          "execution_count": 3
        }
      ]
    },
    {
      "cell_type": "code",
      "metadata": {
        "id": "sKuWnvyeH3ay",
        "colab_type": "code",
        "colab": {}
      },
      "source": [
        "ACTIVITIES = {\n",
        "    0: 'WALKING',\n",
        "    1: 'WALKING_UPSTAIRS',\n",
        "    2: 'WALKING_DOWNSTAIRS',\n",
        "    3: 'SITTING',\n",
        "    4: 'STANDING',\n",
        "    5: 'LAYING',\n",
        "}"
      ],
      "execution_count": 0,
      "outputs": []
    },
    {
      "cell_type": "markdown",
      "metadata": {
        "id": "XnBK8AolI8qO",
        "colab_type": "text"
      },
      "source": [
        "#DATA"
      ]
    },
    {
      "cell_type": "code",
      "metadata": {
        "id": "egN5VAt_ImR3",
        "colab_type": "code",
        "colab": {}
      },
      "source": [
        "DATADIR = '/content/drive/My Drive/Colab Notebooks/CS 10: Human Acitivity Recognition/UCI_HAR_Dataset'"
      ],
      "execution_count": 0,
      "outputs": []
    },
    {
      "cell_type": "code",
      "metadata": {
        "id": "NKCU5PZEI_b5",
        "colab_type": "code",
        "colab": {}
      },
      "source": [
        "SIGNALS = [\n",
        "           \"body_acc_x\",\n",
        "           \"body_acc_y\",\n",
        "           \"body_acc_z\",\n",
        "           \"body_gyro_x\",\n",
        "           \"body_gyro_y\",\n",
        "           \"body_gyro_z\",\n",
        "           \"total_acc_x\",\n",
        "           \"total_acc_y\",\n",
        "           \"total_acc_z\"\n",
        "]"
      ],
      "execution_count": 0,
      "outputs": []
    },
    {
      "cell_type": "code",
      "metadata": {
        "id": "O1wAvTh8JhUI",
        "colab_type": "code",
        "colab": {}
      },
      "source": [
        "def _read_csv(filename):\n",
        "  return pd.read_csv(filename,delim_whitespace=True,Header=None)\n",
        "\n",
        "def load_signals(subset):\n",
        "  signals_data=[]\n",
        "  for signal in SIGNALS:\n",
        "    filename = f'{DATADIR}/{subset}/Inertial Signalls/{signal}_{subset}.txt'\n",
        "    signals_data.append(\n",
        "        _read_csv(filename).as_matrix()\n",
        "    )\n",
        "\n",
        "    return np.transpose(signals_data,(1,2,0))"
      ],
      "execution_count": 0,
      "outputs": []
    }
  ]
}