{
  "nbformat": 4,
  "nbformat_minor": 0,
  "metadata": {
    "colab": {
      "name": "HAR-LSTM.ipynb",
      "provenance": [],
      "collapsed_sections": [],
      "mount_file_id": "1lpnt8Mngdvqm_RkxX9ywdfDxELxeppt5",
      "authorship_tag": "ABX9TyNFyP8lRHxfGNMkLKaXg5PW",
      "include_colab_link": true
    },
    "kernelspec": {
      "name": "python3",
      "display_name": "Python 3"
    }
  },
  "cells": [
    {
      "cell_type": "markdown",
      "metadata": {
        "id": "view-in-github",
        "colab_type": "text"
      },
      "source": [
        "<a href=\"https://colab.research.google.com/github/hiddenntreasure/Har/blob/master/HAR_LSTM.ipynb\" target=\"_parent\"><img src=\"https://colab.research.google.com/assets/colab-badge.svg\" alt=\"Open In Colab\"/></a>"
      ]
    },
    {
      "cell_type": "code",
      "metadata": {
        "id": "ENE8aF2d_2ZH",
        "colab_type": "code",
        "outputId": "a0e73a0a-5702-4c21-c1f4-d9bbe919358c",
        "colab": {
          "base_uri": "https://localhost:8080/",
          "height": 136
        }
      },
      "source": [
        "import pandas as pd\n",
        "import numpy as np\n",
        "s=pd.Series([1,2,3,4,5])\n",
        "s=s.as_matrix()\n",
        "t=[]\n",
        "o=pd.Series([6,7,8,9,10])\n",
        "o=o.as_matrix()\n",
        "t.append(s)\n",
        "print(t)\n",
        "t.append(o)\n",
        "print(t)\n",
        "t"
      ],
      "execution_count": 0,
      "outputs": [
        {
          "output_type": "stream",
          "text": [
            "[array([1, 2, 3, 4, 5])]\n",
            "[array([1, 2, 3, 4, 5]), array([ 6,  7,  8,  9, 10])]\n"
          ],
          "name": "stdout"
        },
        {
          "output_type": "stream",
          "text": [
            "/usr/local/lib/python3.6/dist-packages/ipykernel_launcher.py:4: FutureWarning: Method .as_matrix will be removed in a future version. Use .values instead.\n",
            "  after removing the cwd from sys.path.\n",
            "/usr/local/lib/python3.6/dist-packages/ipykernel_launcher.py:7: FutureWarning: Method .as_matrix will be removed in a future version. Use .values instead.\n",
            "  import sys\n"
          ],
          "name": "stderr"
        },
        {
          "output_type": "execute_result",
          "data": {
            "text/plain": [
              "[array([1, 2, 3, 4, 5]), array([ 6,  7,  8,  9, 10])]"
            ]
          },
          "metadata": {
            "tags": []
          },
          "execution_count": 1
        }
      ]
    },
    {
      "cell_type": "code",
      "metadata": {
        "id": "sKuWnvyeH3ay",
        "colab_type": "code",
        "colab": {}
      },
      "source": [
        "ACTIVITIES = {\n",
        "    0: 'WALKING',\n",
        "    1: 'WALKING_UPSTAIRS',\n",
        "    2: 'WALKING_DOWNSTAIRS',\n",
        "    3: 'SITTING',\n",
        "    4: 'STANDING',\n",
        "    5: 'LAYING',\n",
        "}"
      ],
      "execution_count": 0,
      "outputs": []
    },
    {
      "cell_type": "markdown",
      "metadata": {
        "id": "XnBK8AolI8qO",
        "colab_type": "text"
      },
      "source": [
        "#DATA"
      ]
    },
    {
      "cell_type": "code",
      "metadata": {
        "id": "egN5VAt_ImR3",
        "colab_type": "code",
        "colab": {}
      },
      "source": [
        "DATADIR = '/content/drive/My Drive/Colab Notebooks/CS 10: Human Acitivity Recognition/UCI_HAR_Dataset'"
      ],
      "execution_count": 0,
      "outputs": []
    },
    {
      "cell_type": "code",
      "metadata": {
        "id": "NKCU5PZEI_b5",
        "colab_type": "code",
        "colab": {}
      },
      "source": [
        "SIGNALS = [\n",
        "    \"body_acc_x\",\n",
        "    \"body_acc_y\",\n",
        "    \"body_acc_z\",\n",
        "    \"body_gyro_x\",\n",
        "    \"body_gyro_y\",\n",
        "    \"body_gyro_z\",\n",
        "    \"total_acc_x\",\n",
        "    \"total_acc_y\",\n",
        "    \"total_acc_z\"\n",
        "]"
      ],
      "execution_count": 0,
      "outputs": []
    },
    {
      "cell_type": "code",
      "metadata": {
        "id": "fb3lZJ-NI_GA",
        "colab_type": "code",
        "outputId": "776504e2-8b72-40b5-9bd9-34b10cafede8",
        "colab": {
          "base_uri": "https://localhost:8080/",
          "height": 170
        }
      },
      "source": [
        "for signal in SIGNALS:\n",
        "  print(signal)"
      ],
      "execution_count": 0,
      "outputs": [
        {
          "output_type": "stream",
          "text": [
            "body_acc_x\n",
            "body_acc_y\n",
            "body_acc_z\n",
            "body_gyro_x\n",
            "body_gyro_y\n",
            "body_gyro_z\n",
            "total_acc_x\n",
            "total_acc_y\n",
            "total_acc_z\n"
          ],
          "name": "stdout"
        }
      ]
    },
    {
      "cell_type": "code",
      "metadata": {
        "id": "O1wAvTh8JhUI",
        "colab_type": "code",
        "colab": {}
      },
      "source": [
        "def _read_csv(filename):\n",
        "  a=pd.read_csv(filename,delim_whitespace=True,header=None)\n",
        "  print(a.shape)\n",
        "  return a\n",
        "\n",
        "def load_signals(subset):\n",
        "  signals_data=[]\n",
        "  for signal in SIGNALS:\n",
        "    print(signal)\n",
        "    filename = f'{DATADIR}/{subset}/Inertial Signals/{signal}_{subset}.txt'\n",
        "    #print(signal)\n",
        "    signals_data.append(\n",
        "        _read_csv(filename).as_matrix()\n",
        "\n",
        "    )\n",
        "\n",
        "  return np.transpose(signals_data,(1,2,0))"
      ],
      "execution_count": 0,
      "outputs": []
    },
    {
      "cell_type": "code",
      "metadata": {
        "id": "I-ky-09fUCCL",
        "colab_type": "code",
        "colab": {}
      },
      "source": [
        "def load_y(subset):\n",
        "  filename = f'{DATADIR}/{subset}/y_{subset}.txt'\n",
        "  y= _read_csv(filename)[0]\n",
        "  y\n",
        "  return pd.get_dummies(y).as_matrix()"
      ],
      "execution_count": 0,
      "outputs": []
    },
    {
      "cell_type": "code",
      "metadata": {
        "id": "o5gNXbEiURYg",
        "colab_type": "code",
        "colab": {}
      },
      "source": [
        "def load_data():\n",
        "  X_train,X_test = load_signals('train'), load_signals('test')\n",
        "  y_train,y_test = load_y('train'),load_y('test')\n",
        "  return X_train,X_test,y_train,y_test"
      ],
      "execution_count": 0,
      "outputs": []
    },
    {
      "cell_type": "code",
      "metadata": {
        "id": "ohfSVue3YKup",
        "colab_type": "code",
        "outputId": "2cb66381-c674-4fb9-a270-6a2831565bf5",
        "colab": {
          "base_uri": "https://localhost:8080/",
          "height": 63
        }
      },
      "source": [
        "np.random.seed(42) # to avoid thread\n",
        "import tensorflow as tf\n",
        "tf.set_random_seed(42)"
      ],
      "execution_count": 0,
      "outputs": [
        {
          "output_type": "display_data",
          "data": {
            "text/html": [
              "<p style=\"color: red;\">\n",
              "The default version of TensorFlow in Colab will soon switch to TensorFlow 2.x.<br>\n",
              "We recommend you <a href=\"https://www.tensorflow.org/guide/migrate\" target=\"_blank\">upgrade</a> now \n",
              "or ensure your notebook will continue to use TensorFlow 1.x via the <code>%tensorflow_version 1.x</code> magic:\n",
              "<a href=\"https://colab.research.google.com/notebooks/tensorflow_version.ipynb\" target=\"_blank\">more info</a>.</p>\n"
            ],
            "text/plain": [
              "<IPython.core.display.HTML object>"
            ]
          },
          "metadata": {
            "tags": []
          }
        }
      ]
    },
    {
      "cell_type": "code",
      "metadata": {
        "id": "eeLJ-v0nDBxD",
        "colab_type": "code",
        "colab": {}
      },
      "source": [
        "session_conf = tf.ConfigProto(\n",
        "    intra_op_parallelism_threads = 1,\n",
        "    inter_op_parallelism_threads =1\n",
        ")"
      ],
      "execution_count": 0,
      "outputs": []
    },
    {
      "cell_type": "code",
      "metadata": {
        "id": "AvmA-HOXDlaB",
        "colab_type": "code",
        "outputId": "0e419272-533b-415d-aa35-3a3a71c411e7",
        "colab": {
          "base_uri": "https://localhost:8080/",
          "height": 34
        }
      },
      "source": [
        "from keras import backend as K\n",
        "sess = tf.Session(graph=tf.get_default_graph(),config=session_conf)\n",
        "K.set_session(sess)"
      ],
      "execution_count": 0,
      "outputs": [
        {
          "output_type": "stream",
          "text": [
            "Using TensorFlow backend.\n"
          ],
          "name": "stderr"
        }
      ]
    },
    {
      "cell_type": "code",
      "metadata": {
        "id": "2C35Vf_BD0Ap",
        "colab_type": "code",
        "colab": {}
      },
      "source": [
        "from keras.models import Sequential\n",
        "from keras.layers import LSTM\n",
        "from keras.layers.core import Dense,Dropout"
      ],
      "execution_count": 0,
      "outputs": []
    },
    {
      "cell_type": "code",
      "metadata": {
        "id": "5f65QDgfECPj",
        "colab_type": "code",
        "colab": {}
      },
      "source": [
        "epochs = 30\n",
        "batch_size = 16\n",
        "n_hidden = 32"
      ],
      "execution_count": 0,
      "outputs": []
    },
    {
      "cell_type": "code",
      "metadata": {
        "id": "h65ikzl4ETVw",
        "colab_type": "code",
        "colab": {}
      },
      "source": [
        "# Count the number of classes\n",
        "def _count_classes(y):\n",
        "  return len(set(tuple(category) for category in y))"
      ],
      "execution_count": 0,
      "outputs": []
    },
    {
      "cell_type": "code",
      "metadata": {
        "id": "baW3QQ2CEeuc",
        "colab_type": "code",
        "outputId": "fba66a10-36a9-4320-cc41-8bded10acfcd",
        "colab": {
          "base_uri": "https://localhost:8080/",
          "height": 731
        }
      },
      "source": [
        "X_train,X_test,y_train,y_test = load_data()"
      ],
      "execution_count": 0,
      "outputs": [
        {
          "output_type": "stream",
          "text": [
            "body_acc_x\n",
            "(7352, 128)\n",
            "body_acc_y\n"
          ],
          "name": "stdout"
        },
        {
          "output_type": "stream",
          "text": [
            "/usr/local/lib/python3.6/dist-packages/ipykernel_launcher.py:13: FutureWarning: Method .as_matrix will be removed in a future version. Use .values instead.\n",
            "  del sys.path[0]\n"
          ],
          "name": "stderr"
        },
        {
          "output_type": "stream",
          "text": [
            "(7352, 128)\n",
            "body_acc_z\n",
            "(7352, 128)\n",
            "body_gyro_x\n",
            "(7352, 128)\n",
            "body_gyro_y\n",
            "(7352, 128)\n",
            "body_gyro_z\n",
            "(7352, 128)\n",
            "total_acc_x\n",
            "(7352, 128)\n",
            "total_acc_y\n",
            "(7352, 128)\n",
            "total_acc_z\n",
            "(7352, 128)\n",
            "body_acc_x\n",
            "(2947, 128)\n",
            "body_acc_y\n",
            "(2947, 128)\n",
            "body_acc_z\n",
            "(2947, 128)\n",
            "body_gyro_x\n",
            "(2947, 128)\n",
            "body_gyro_y\n",
            "(2947, 128)\n",
            "body_gyro_z\n",
            "(2947, 128)\n",
            "total_acc_x\n",
            "(2947, 128)\n",
            "total_acc_y\n",
            "(2947, 128)\n",
            "total_acc_z\n",
            "(2947, 128)\n",
            "(7352, 1)\n"
          ],
          "name": "stdout"
        },
        {
          "output_type": "stream",
          "text": [
            "/usr/local/lib/python3.6/dist-packages/ipykernel_launcher.py:5: FutureWarning: Method .as_matrix will be removed in a future version. Use .values instead.\n",
            "  \"\"\"\n"
          ],
          "name": "stderr"
        },
        {
          "output_type": "stream",
          "text": [
            "(2947, 1)\n"
          ],
          "name": "stdout"
        }
      ]
    },
    {
      "cell_type": "code",
      "metadata": {
        "id": "2Yx5w8MeHIZ2",
        "colab_type": "code",
        "outputId": "935436b3-23a0-4215-967d-e799d927b824",
        "colab": {
          "base_uri": "https://localhost:8080/",
          "height": 34
        }
      },
      "source": [
        "X_train.shape"
      ],
      "execution_count": 0,
      "outputs": [
        {
          "output_type": "execute_result",
          "data": {
            "text/plain": [
              "(7352, 128, 9)"
            ]
          },
          "metadata": {
            "tags": []
          },
          "execution_count": 16
        }
      ]
    },
    {
      "cell_type": "code",
      "metadata": {
        "id": "Mu-Iv9z1X57N",
        "colab_type": "code",
        "colab": {}
      },
      "source": [
        "timesteps = len(X_train[0])\n",
        "input_dim = len(X_train[0][0])\n",
        "n_classes = _count_classes(y_train)"
      ],
      "execution_count": 0,
      "outputs": []
    },
    {
      "cell_type": "markdown",
      "metadata": {
        "id": "jSxX0BlnYm6S",
        "colab_type": "text"
      },
      "source": [
        "## LSTM Model"
      ]
    },
    {
      "cell_type": "code",
      "metadata": {
        "id": "1Lm0FHkHYqRl",
        "colab_type": "code",
        "outputId": "5440ace3-23f5-4396-90cc-e2bcdebd5c7e",
        "colab": {
          "base_uri": "https://localhost:8080/",
          "height": 289
        }
      },
      "source": [
        "model = Sequential()\n",
        "model.add(LSTM(64,input_shape=(timesteps,input_dim),return_sequences=True))\n",
        "model.add(LSTM(32,return_sequences=True))\n",
        "model.add(LSTM(8))\n",
        "model.add(Dense(n_classes,activation='sigmoid'))\n",
        "model.summary()"
      ],
      "execution_count": 29,
      "outputs": [
        {
          "output_type": "stream",
          "text": [
            "Model: \"sequential_4\"\n",
            "_________________________________________________________________\n",
            "Layer (type)                 Output Shape              Param #   \n",
            "=================================================================\n",
            "lstm_8 (LSTM)                (None, 128, 64)           18944     \n",
            "_________________________________________________________________\n",
            "lstm_9 (LSTM)                (None, 128, 32)           12416     \n",
            "_________________________________________________________________\n",
            "lstm_10 (LSTM)               (None, 8)                 1312      \n",
            "_________________________________________________________________\n",
            "dense_3 (Dense)              (None, 6)                 54        \n",
            "=================================================================\n",
            "Total params: 32,726\n",
            "Trainable params: 32,726\n",
            "Non-trainable params: 0\n",
            "_________________________________________________________________\n"
          ],
          "name": "stdout"
        }
      ]
    },
    {
      "cell_type": "code",
      "metadata": {
        "id": "4YQGfSzgaJre",
        "colab_type": "code",
        "colab": {}
      },
      "source": [
        "model.compile(optimizer='rmsprop',loss='categorical_crossentropy',metrics=['accuracy'])"
      ],
      "execution_count": 0,
      "outputs": []
    },
    {
      "cell_type": "code",
      "metadata": {
        "id": "mSmdIahsamep",
        "colab_type": "code",
        "outputId": "4d887c18-fb07-43c1-a4cd-a3242713c343",
        "colab": {
          "base_uri": "https://localhost:8080/",
          "height": 1000
        }
      },
      "source": [
        "model.fit(X_train,y_train,batch_size=batch_size,epochs=epochs,validation_data=(X_test,y_test))"
      ],
      "execution_count": 31,
      "outputs": [
        {
          "output_type": "stream",
          "text": [
            "Train on 7352 samples, validate on 2947 samples\n",
            "Epoch 1/30\n",
            "7352/7352 [==============================] - 103s 14ms/step - loss: 1.5223 - acc: 0.4025 - val_loss: 1.5745 - val_acc: 0.3688\n",
            "Epoch 2/30\n",
            "7352/7352 [==============================] - 100s 14ms/step - loss: 1.2062 - acc: 0.5400 - val_loss: 1.0408 - val_acc: 0.6054\n",
            "Epoch 3/30\n",
            "7352/7352 [==============================] - 98s 13ms/step - loss: 0.9095 - acc: 0.6737 - val_loss: 0.9666 - val_acc: 0.6827\n",
            "Epoch 4/30\n",
            "7352/7352 [==============================] - 99s 13ms/step - loss: 0.6882 - acc: 0.7501 - val_loss: 0.9588 - val_acc: 0.5769\n",
            "Epoch 5/30\n",
            "7352/7352 [==============================] - 99s 13ms/step - loss: 0.6120 - acc: 0.7401 - val_loss: 0.7509 - val_acc: 0.6753\n",
            "Epoch 6/30\n",
            "7352/7352 [==============================] - 98s 13ms/step - loss: 0.5426 - acc: 0.7560 - val_loss: 0.7666 - val_acc: 0.7021\n",
            "Epoch 7/30\n",
            "7352/7352 [==============================] - 98s 13ms/step - loss: 0.5127 - acc: 0.7605 - val_loss: 0.6631 - val_acc: 0.7492\n",
            "Epoch 8/30\n",
            "7352/7352 [==============================] - 98s 13ms/step - loss: 0.4186 - acc: 0.8025 - val_loss: 0.5134 - val_acc: 0.7940\n",
            "Epoch 9/30\n",
            "7352/7352 [==============================] - 99s 13ms/step - loss: 0.3281 - acc: 0.8968 - val_loss: 0.6373 - val_acc: 0.8402\n",
            "Epoch 10/30\n",
            "7352/7352 [==============================] - 99s 13ms/step - loss: 0.2854 - acc: 0.9157 - val_loss: 0.3586 - val_acc: 0.9050\n",
            "Epoch 11/30\n",
            "7352/7352 [==============================] - 100s 14ms/step - loss: 0.3095 - acc: 0.9187 - val_loss: 0.6814 - val_acc: 0.7832\n",
            "Epoch 12/30\n",
            "7352/7352 [==============================] - 99s 13ms/step - loss: 0.2268 - acc: 0.9276 - val_loss: 0.3545 - val_acc: 0.8968\n",
            "Epoch 13/30\n",
            "7352/7352 [==============================] - 98s 13ms/step - loss: 0.2648 - acc: 0.9199 - val_loss: 0.3491 - val_acc: 0.8907\n",
            "Epoch 14/30\n",
            "7352/7352 [==============================] - 98s 13ms/step - loss: 0.1925 - acc: 0.9373 - val_loss: 0.3154 - val_acc: 0.8921\n",
            "Epoch 15/30\n",
            "7352/7352 [==============================] - 102s 14ms/step - loss: 0.1579 - acc: 0.9461 - val_loss: 0.3460 - val_acc: 0.8992\n",
            "Epoch 16/30\n",
            "7352/7352 [==============================] - 100s 14ms/step - loss: 0.1514 - acc: 0.9479 - val_loss: 0.2747 - val_acc: 0.9036\n",
            "Epoch 17/30\n",
            "7352/7352 [==============================] - 102s 14ms/step - loss: 0.1428 - acc: 0.9495 - val_loss: 0.3212 - val_acc: 0.9131\n",
            "Epoch 18/30\n",
            "7352/7352 [==============================] - 105s 14ms/step - loss: 0.1490 - acc: 0.9472 - val_loss: 0.2693 - val_acc: 0.9189\n",
            "Epoch 19/30\n",
            "7352/7352 [==============================] - 103s 14ms/step - loss: 0.1463 - acc: 0.9472 - val_loss: 0.3071 - val_acc: 0.9165\n",
            "Epoch 20/30\n",
            "7352/7352 [==============================] - 102s 14ms/step - loss: 0.1417 - acc: 0.9510 - val_loss: 0.3115 - val_acc: 0.9158\n",
            "Epoch 21/30\n",
            "7352/7352 [==============================] - 101s 14ms/step - loss: 0.1428 - acc: 0.9502 - val_loss: 0.2883 - val_acc: 0.9121\n",
            "Epoch 22/30\n",
            "7352/7352 [==============================] - 102s 14ms/step - loss: 0.1344 - acc: 0.9513 - val_loss: 0.3418 - val_acc: 0.9050\n",
            "Epoch 23/30\n",
            "7352/7352 [==============================] - 100s 14ms/step - loss: 0.1424 - acc: 0.9475 - val_loss: 0.3840 - val_acc: 0.9013\n",
            "Epoch 24/30\n",
            "7352/7352 [==============================] - 97s 13ms/step - loss: 0.1342 - acc: 0.9514 - val_loss: 0.3341 - val_acc: 0.9179\n",
            "Epoch 25/30\n",
            "7352/7352 [==============================] - 99s 14ms/step - loss: 0.1375 - acc: 0.9470 - val_loss: 0.2698 - val_acc: 0.9152\n",
            "Epoch 26/30\n",
            "7352/7352 [==============================] - 98s 13ms/step - loss: 0.1411 - acc: 0.9508 - val_loss: 0.3281 - val_acc: 0.9121\n",
            "Epoch 27/30\n",
            "7352/7352 [==============================] - 98s 13ms/step - loss: 0.1325 - acc: 0.9505 - val_loss: 0.2645 - val_acc: 0.9192\n",
            "Epoch 28/30\n",
            "7352/7352 [==============================] - 100s 14ms/step - loss: 0.1264 - acc: 0.9523 - val_loss: 0.3541 - val_acc: 0.9094\n",
            "Epoch 29/30\n",
            "7352/7352 [==============================] - 101s 14ms/step - loss: 0.1627 - acc: 0.9490 - val_loss: 0.4409 - val_acc: 0.8850\n",
            "Epoch 30/30\n",
            "7352/7352 [==============================] - 102s 14ms/step - loss: 0.1615 - acc: 0.9444 - val_loss: 0.3777 - val_acc: 0.9097\n"
          ],
          "name": "stdout"
        },
        {
          "output_type": "execute_result",
          "data": {
            "text/plain": [
              "<keras.callbacks.History at 0x7fe638be05c0>"
            ]
          },
          "metadata": {
            "tags": []
          },
          "execution_count": 31
        }
      ]
    },
    {
      "cell_type": "code",
      "metadata": {
        "id": "zbhpdVbxgbJX",
        "colab_type": "code",
        "colab": {}
      },
      "source": [
        "def confusion_matrix(Y_true, Y_pred):\n",
        "    Y_true = pd.Series([ACTIVITIES[y] for y in np.argmax(Y_true, axis=1)])\n",
        "    Y_pred = pd.Series([ACTIVITIES[y] for y in np.argmax(Y_pred, axis=1)])\n",
        "\n",
        "    return pd.crosstab(Y_true, Y_pred, rownames=['True'], colnames=['Pred'])"
      ],
      "execution_count": 0,
      "outputs": []
    },
    {
      "cell_type": "code",
      "metadata": {
        "id": "g5-hS6x1gcIN",
        "colab_type": "code",
        "outputId": "4bc9a862-47f3-47a5-dafd-a21dc0a8a5a8",
        "colab": {
          "base_uri": "https://localhost:8080/",
          "height": 187
        }
      },
      "source": [
        "# Confusion Matrix\n",
        "print(confusion_matrix(y_test, model.predict(X_test)))"
      ],
      "execution_count": 26,
      "outputs": [
        {
          "output_type": "stream",
          "text": [
            "Pred                LAYING  SITTING  ...  WALKING_DOWNSTAIRS  WALKING_UPSTAIRS\n",
            "True                                 ...                                      \n",
            "LAYING                 535        0  ...                   1                 0\n",
            "SITTING                  0      489  ...                   0                 0\n",
            "STANDING                 0      528  ...                   0                 0\n",
            "WALKING                  0        0  ...                   4                52\n",
            "WALKING_DOWNSTAIRS       0        0  ...                   0                 4\n",
            "WALKING_UPSTAIRS         0        0  ...                   1                 5\n",
            "\n",
            "[6 rows x 6 columns]\n"
          ],
          "name": "stdout"
        }
      ]
    },
    {
      "cell_type": "code",
      "metadata": {
        "id": "EsIO2JyTghiV",
        "colab_type": "code",
        "outputId": "6867dd0c-dc14-4413-d734-c821b80299af",
        "colab": {
          "base_uri": "https://localhost:8080/",
          "height": 34
        }
      },
      "source": [
        "score = model.evaluate(X_test, y_test)"
      ],
      "execution_count": 27,
      "outputs": [
        {
          "output_type": "stream",
          "text": [
            "2947/2947 [==============================] - 3s 1ms/step\n"
          ],
          "name": "stdout"
        }
      ]
    },
    {
      "cell_type": "code",
      "metadata": {
        "id": "EZAWmBxugnqc",
        "colab_type": "code",
        "outputId": "f045e22a-cc32-47ef-e01a-235a60239fd7",
        "colab": {
          "base_uri": "https://localhost:8080/",
          "height": 34
        }
      },
      "source": [
        "score"
      ],
      "execution_count": 28,
      "outputs": [
        {
          "output_type": "execute_result",
          "data": {
            "text/plain": [
              "[0.7817624219199298, 0.49949100780454697]"
            ]
          },
          "metadata": {
            "tags": []
          },
          "execution_count": 28
        }
      ]
    }
  ]
}