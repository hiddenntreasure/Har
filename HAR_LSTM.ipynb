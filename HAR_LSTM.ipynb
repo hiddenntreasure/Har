{
  "nbformat": 4,
  "nbformat_minor": 0,
  "metadata": {
    "colab": {
      "name": "HAR-LSTM.ipynb",
      "provenance": [],
      "mount_file_id": "1lpnt8Mngdvqm_RkxX9ywdfDxELxeppt5",
      "authorship_tag": "ABX9TyNdMzcN4cmxBePfcGwm5JPm",
      "include_colab_link": true
    },
    "kernelspec": {
      "name": "python3",
      "display_name": "Python 3"
    }
  },
  "cells": [
    {
      "cell_type": "markdown",
      "metadata": {
        "id": "view-in-github",
        "colab_type": "text"
      },
      "source": [
        "<a href=\"https://colab.research.google.com/github/hiddenntreasure/Har/blob/master/HAR_LSTM.ipynb\" target=\"_parent\"><img src=\"https://colab.research.google.com/assets/colab-badge.svg\" alt=\"Open In Colab\"/></a>"
      ]
    },
    {
      "cell_type": "code",
      "metadata": {
        "id": "ENE8aF2d_2ZH",
        "colab_type": "code",
        "outputId": "32813dc5-4c3c-4cf3-e22f-8192796192fb",
        "colab": {
          "base_uri": "https://localhost:8080/",
          "height": 136
        }
      },
      "source": [
        "import pandas as pd\n",
        "import numpy as np\n",
        "s=pd.Series([1,2,3,4,5])\n",
        "s=s.as_matrix()\n",
        "t=[]\n",
        "o=pd.Series([6,7,8,9,10])\n",
        "o=o.as_matrix()\n",
        "t.append(s)\n",
        "print(t)\n",
        "t.append(o)\n",
        "print(t)\n",
        "t"
      ],
      "execution_count": 1,
      "outputs": [
        {
          "output_type": "stream",
          "text": [
            "[array([1, 2, 3, 4, 5])]\n",
            "[array([1, 2, 3, 4, 5]), array([ 6,  7,  8,  9, 10])]\n"
          ],
          "name": "stdout"
        },
        {
          "output_type": "stream",
          "text": [
            "/usr/local/lib/python3.6/dist-packages/ipykernel_launcher.py:4: FutureWarning: Method .as_matrix will be removed in a future version. Use .values instead.\n",
            "  after removing the cwd from sys.path.\n",
            "/usr/local/lib/python3.6/dist-packages/ipykernel_launcher.py:7: FutureWarning: Method .as_matrix will be removed in a future version. Use .values instead.\n",
            "  import sys\n"
          ],
          "name": "stderr"
        },
        {
          "output_type": "execute_result",
          "data": {
            "text/plain": [
              "[array([1, 2, 3, 4, 5]), array([ 6,  7,  8,  9, 10])]"
            ]
          },
          "metadata": {
            "tags": []
          },
          "execution_count": 1
        }
      ]
    },
    {
      "cell_type": "code",
      "metadata": {
        "id": "sKuWnvyeH3ay",
        "colab_type": "code",
        "colab": {}
      },
      "source": [
        "ACTIVITIES = {\n",
        "    0: 'WALKING',\n",
        "    1: 'WALKING_UPSTAIRS',\n",
        "    2: 'WALKING_DOWNSTAIRS',\n",
        "    3: 'SITTING',\n",
        "    4: 'STANDING',\n",
        "    5: 'LAYING',\n",
        "}"
      ],
      "execution_count": 0,
      "outputs": []
    },
    {
      "cell_type": "markdown",
      "metadata": {
        "id": "XnBK8AolI8qO",
        "colab_type": "text"
      },
      "source": [
        "#DATA"
      ]
    },
    {
      "cell_type": "code",
      "metadata": {
        "id": "egN5VAt_ImR3",
        "colab_type": "code",
        "colab": {}
      },
      "source": [
        "DATADIR = '/content/drive/My Drive/Colab Notebooks/CS 10: Human Acitivity Recognition/UCI_HAR_Dataset'"
      ],
      "execution_count": 0,
      "outputs": []
    },
    {
      "cell_type": "code",
      "metadata": {
        "id": "NKCU5PZEI_b5",
        "colab_type": "code",
        "colab": {}
      },
      "source": [
        "SIGNALS = [\n",
        "    \"body_acc_x\",\n",
        "    \"body_acc_y\",\n",
        "    \"body_acc_z\",\n",
        "    \"body_gyro_x\",\n",
        "    \"body_gyro_y\",\n",
        "    \"body_gyro_z\",\n",
        "    \"total_acc_x\",\n",
        "    \"total_acc_y\",\n",
        "    \"total_acc_z\"\n",
        "]"
      ],
      "execution_count": 0,
      "outputs": []
    },
    {
      "cell_type": "code",
      "metadata": {
        "id": "fb3lZJ-NI_GA",
        "colab_type": "code",
        "colab": {
          "base_uri": "https://localhost:8080/",
          "height": 170
        },
        "outputId": "794b3727-8b4f-4579-abbc-f873958f1782"
      },
      "source": [
        "for signal in SIGNALS:\n",
        "  print(signal)"
      ],
      "execution_count": 45,
      "outputs": [
        {
          "output_type": "stream",
          "text": [
            "body_acc_x\n",
            "body_acc_y\n",
            "body_acc_z\n",
            "body_gyro_x\n",
            "body_gyro_y\n",
            "body_gyro_z\n",
            "total_acc_x\n",
            "total_acc_y\n",
            "total_acc_z\n"
          ],
          "name": "stdout"
        }
      ]
    },
    {
      "cell_type": "code",
      "metadata": {
        "id": "O1wAvTh8JhUI",
        "colab_type": "code",
        "colab": {}
      },
      "source": [
        "def _read_csv(filename):\n",
        "  a=pd.read_csv(filename,delim_whitespace=True,header=None)\n",
        "  print(a.shape)\n",
        "  return a\n",
        "\n",
        "def load_signals(subset):\n",
        "  signals_data=[]\n",
        "  for signal in SIGNALS:\n",
        "    print(signal)\n",
        "    filename = f'{DATADIR}/{subset}/Inertial Signals/{signal}_{subset}.txt'\n",
        "    #print(signal)\n",
        "    signals_data.append(\n",
        "        _read_csv(filename).as_matrix()\n",
        "\n",
        "    )\n",
        "\n",
        "  return np.transpose(signals_data,(1,2,0))"
      ],
      "execution_count": 0,
      "outputs": []
    },
    {
      "cell_type": "code",
      "metadata": {
        "id": "I-ky-09fUCCL",
        "colab_type": "code",
        "colab": {}
      },
      "source": [
        "def load_y(subset):\n",
        "  filename = f'{DATADIR}/{subset}/y_{subset}.txt'\n",
        "  y= _read_csv(filename)[0]\n",
        "  y\n",
        "  return pd.get_dummies(y).as_matrix()"
      ],
      "execution_count": 0,
      "outputs": []
    },
    {
      "cell_type": "code",
      "metadata": {
        "id": "o5gNXbEiURYg",
        "colab_type": "code",
        "colab": {}
      },
      "source": [
        "def load_data():\n",
        "  X_train,X_test = load_signals('train'), load_signals('test')\n",
        "  y_train,y_test = load_y('train'),load_y('test')\n",
        "  return X_train,X_test,y_train,y_test"
      ],
      "execution_count": 0,
      "outputs": []
    },
    {
      "cell_type": "code",
      "metadata": {
        "id": "ohfSVue3YKup",
        "colab_type": "code",
        "colab": {
          "base_uri": "https://localhost:8080/",
          "height": 63
        },
        "outputId": "aba66110-a870-4f9b-9ff4-26838aec82c1"
      },
      "source": [
        "np.random.seed(42) # to avoid thread\n",
        "import tensorflow as tf\n",
        "tf.set_random_seed(42)"
      ],
      "execution_count": 8,
      "outputs": [
        {
          "output_type": "display_data",
          "data": {
            "text/html": [
              "<p style=\"color: red;\">\n",
              "The default version of TensorFlow in Colab will soon switch to TensorFlow 2.x.<br>\n",
              "We recommend you <a href=\"https://www.tensorflow.org/guide/migrate\" target=\"_blank\">upgrade</a> now \n",
              "or ensure your notebook will continue to use TensorFlow 1.x via the <code>%tensorflow_version 1.x</code> magic:\n",
              "<a href=\"https://colab.research.google.com/notebooks/tensorflow_version.ipynb\" target=\"_blank\">more info</a>.</p>\n"
            ],
            "text/plain": [
              "<IPython.core.display.HTML object>"
            ]
          },
          "metadata": {
            "tags": []
          }
        }
      ]
    },
    {
      "cell_type": "code",
      "metadata": {
        "id": "eeLJ-v0nDBxD",
        "colab_type": "code",
        "colab": {}
      },
      "source": [
        "session_conf = tf.ConfigProto(\n",
        "    intra_op_parallelism_threads = 1,\n",
        "    inter_op_parallelism_threads =1\n",
        ")"
      ],
      "execution_count": 0,
      "outputs": []
    },
    {
      "cell_type": "code",
      "metadata": {
        "id": "AvmA-HOXDlaB",
        "colab_type": "code",
        "colab": {}
      },
      "source": [
        "from keras import backend as K\n",
        "sess = tf.Session(graph=tf.get_default_graph(),config=session_conf)\n",
        "K.set_session(sess)"
      ],
      "execution_count": 0,
      "outputs": []
    },
    {
      "cell_type": "code",
      "metadata": {
        "id": "2C35Vf_BD0Ap",
        "colab_type": "code",
        "colab": {}
      },
      "source": [
        "from keras.models import Sequential\n",
        "from keras.layers import LSTM\n",
        "from keras.layers.core import Dense,Dropout"
      ],
      "execution_count": 0,
      "outputs": []
    },
    {
      "cell_type": "code",
      "metadata": {
        "id": "5f65QDgfECPj",
        "colab_type": "code",
        "colab": {}
      },
      "source": [
        "epochs = 30\n",
        "batch_size = 16\n",
        "n_hidden = 32"
      ],
      "execution_count": 0,
      "outputs": []
    },
    {
      "cell_type": "code",
      "metadata": {
        "id": "h65ikzl4ETVw",
        "colab_type": "code",
        "colab": {}
      },
      "source": [
        "# Count the number of classes\n",
        "def _count_classes(y):\n",
        "  return len(set(tuple(category) for category in y))"
      ],
      "execution_count": 0,
      "outputs": []
    },
    {
      "cell_type": "code",
      "metadata": {
        "id": "baW3QQ2CEeuc",
        "colab_type": "code",
        "colab": {}
      },
      "source": [
        "X_train,X_test,y_train,y_test = load_data()"
      ],
      "execution_count": 0,
      "outputs": []
    },
    {
      "cell_type": "code",
      "metadata": {
        "id": "2Yx5w8MeHIZ2",
        "colab_type": "code",
        "colab": {
          "base_uri": "https://localhost:8080/",
          "height": 34
        },
        "outputId": "cb2d5d21-dc9f-4963-e1b8-5dbc472f8584"
      },
      "source": [
        "X_train.shape"
      ],
      "execution_count": 49,
      "outputs": [
        {
          "output_type": "execute_result",
          "data": {
            "text/plain": [
              "(7352, 128, 9)"
            ]
          },
          "metadata": {
            "tags": []
          },
          "execution_count": 49
        }
      ]
    },
    {
      "cell_type": "code",
      "metadata": {
        "id": "Mu-Iv9z1X57N",
        "colab_type": "code",
        "colab": {}
      },
      "source": [
        "timesteps = len(X_train[0])\n",
        "input_dim = len(X_train[0][0])\n",
        "n_classes = _count_classes(y_train)"
      ],
      "execution_count": 0,
      "outputs": []
    },
    {
      "cell_type": "markdown",
      "metadata": {
        "id": "jSxX0BlnYm6S",
        "colab_type": "text"
      },
      "source": [
        "## LSTM Model"
      ]
    },
    {
      "cell_type": "code",
      "metadata": {
        "id": "1Lm0FHkHYqRl",
        "colab_type": "code",
        "colab": {
          "base_uri": "https://localhost:8080/",
          "height": 428
        },
        "outputId": "614c4756-f41c-4167-d33f-65b125a0120a"
      },
      "source": [
        "model = Sequential()\n",
        "model.add(LSTM(n_hidden,input_shape=(timesteps,input_dim)))\n",
        "model.add(Dropout(0.5))\n",
        "model.add(Dense(n_classes,activation='sigmoid'))\n",
        "model.summary()"
      ],
      "execution_count": 53,
      "outputs": [
        {
          "output_type": "stream",
          "text": [
            "WARNING:tensorflow:From /usr/local/lib/python3.6/dist-packages/keras/backend/tensorflow_backend.py:541: The name tf.placeholder is deprecated. Please use tf.compat.v1.placeholder instead.\n",
            "\n",
            "WARNING:tensorflow:From /usr/local/lib/python3.6/dist-packages/keras/backend/tensorflow_backend.py:4432: The name tf.random_uniform is deprecated. Please use tf.random.uniform instead.\n",
            "\n",
            "WARNING:tensorflow:From /usr/local/lib/python3.6/dist-packages/keras/backend/tensorflow_backend.py:148: The name tf.placeholder_with_default is deprecated. Please use tf.compat.v1.placeholder_with_default instead.\n",
            "\n",
            "WARNING:tensorflow:From /usr/local/lib/python3.6/dist-packages/keras/backend/tensorflow_backend.py:3733: calling dropout (from tensorflow.python.ops.nn_ops) with keep_prob is deprecated and will be removed in a future version.\n",
            "Instructions for updating:\n",
            "Please use `rate` instead of `keep_prob`. Rate should be set to `rate = 1 - keep_prob`.\n",
            "Model: \"sequential_1\"\n",
            "_________________________________________________________________\n",
            "Layer (type)                 Output Shape              Param #   \n",
            "=================================================================\n",
            "lstm_1 (LSTM)                (None, 32)                5376      \n",
            "_________________________________________________________________\n",
            "dropout_1 (Dropout)          (None, 32)                0         \n",
            "_________________________________________________________________\n",
            "dense_1 (Dense)              (None, 6)                 198       \n",
            "=================================================================\n",
            "Total params: 5,574\n",
            "Trainable params: 5,574\n",
            "Non-trainable params: 0\n",
            "_________________________________________________________________\n"
          ],
          "name": "stdout"
        }
      ]
    },
    {
      "cell_type": "code",
      "metadata": {
        "id": "4YQGfSzgaJre",
        "colab_type": "code",
        "colab": {
          "base_uri": "https://localhost:8080/",
          "height": 105
        },
        "outputId": "95bb064a-7d80-432d-a71e-dfb428e9d58b"
      },
      "source": [
        "model.compile(optimizer='rmsprop',loss='categorical_crossentropy',metrics=['accuracy'])"
      ],
      "execution_count": 54,
      "outputs": [
        {
          "output_type": "stream",
          "text": [
            "WARNING:tensorflow:From /usr/local/lib/python3.6/dist-packages/keras/optimizers.py:793: The name tf.train.Optimizer is deprecated. Please use tf.compat.v1.train.Optimizer instead.\n",
            "\n",
            "WARNING:tensorflow:From /usr/local/lib/python3.6/dist-packages/keras/backend/tensorflow_backend.py:3576: The name tf.log is deprecated. Please use tf.math.log instead.\n",
            "\n"
          ],
          "name": "stdout"
        }
      ]
    },
    {
      "cell_type": "code",
      "metadata": {
        "id": "mSmdIahsamep",
        "colab_type": "code",
        "colab": {
          "base_uri": "https://localhost:8080/",
          "height": 1000
        },
        "outputId": "0399ff1b-31aa-4f3d-8221-d2a19c15f156"
      },
      "source": [
        "model.fit(X_train,y_train,batch_size=batch_size,epochs=epochs,validation_data=(X_test,y_test))"
      ],
      "execution_count": 55,
      "outputs": [
        {
          "output_type": "stream",
          "text": [
            "WARNING:tensorflow:From /tensorflow-1.15.0/python3.6/tensorflow_core/python/ops/math_grad.py:1424: where (from tensorflow.python.ops.array_ops) is deprecated and will be removed in a future version.\n",
            "Instructions for updating:\n",
            "Use tf.where in 2.0, which has the same broadcast rule as np.where\n",
            "Train on 7352 samples, validate on 2947 samples\n",
            "Epoch 1/30\n",
            "WARNING:tensorflow:From /usr/local/lib/python3.6/dist-packages/keras/backend/tensorflow_backend.py:216: The name tf.is_variable_initialized is deprecated. Please use tf.compat.v1.is_variable_initialized instead.\n",
            "\n",
            "WARNING:tensorflow:From /usr/local/lib/python3.6/dist-packages/keras/backend/tensorflow_backend.py:223: The name tf.variables_initializer is deprecated. Please use tf.compat.v1.variables_initializer instead.\n",
            "\n",
            "7352/7352 [==============================] - 31s 4ms/step - loss: 1.3174 - acc: 0.4403 - val_loss: 1.1560 - val_acc: 0.4690\n",
            "Epoch 2/30\n",
            "7352/7352 [==============================] - 30s 4ms/step - loss: 1.0141 - acc: 0.5647 - val_loss: 0.9243 - val_acc: 0.6176\n",
            "Epoch 3/30\n",
            "7352/7352 [==============================] - 30s 4ms/step - loss: 0.8116 - acc: 0.6446 - val_loss: 0.8714 - val_acc: 0.6013\n",
            "Epoch 4/30\n",
            "7352/7352 [==============================] - 30s 4ms/step - loss: 0.7084 - acc: 0.6567 - val_loss: 0.7317 - val_acc: 0.6162\n",
            "Epoch 5/30\n",
            "7352/7352 [==============================] - 30s 4ms/step - loss: 0.6670 - acc: 0.6706 - val_loss: 0.7732 - val_acc: 0.5887\n",
            "Epoch 6/30\n",
            "7352/7352 [==============================] - 30s 4ms/step - loss: 0.6135 - acc: 0.6861 - val_loss: 0.6787 - val_acc: 0.6478\n",
            "Epoch 7/30\n",
            "7352/7352 [==============================] - 30s 4ms/step - loss: 0.6095 - acc: 0.7190 - val_loss: 0.6973 - val_acc: 0.7163\n",
            "Epoch 8/30\n",
            "7352/7352 [==============================] - 30s 4ms/step - loss: 0.6175 - acc: 0.7233 - val_loss: 0.6390 - val_acc: 0.7363\n",
            "Epoch 9/30\n",
            "7352/7352 [==============================] - 30s 4ms/step - loss: 0.5298 - acc: 0.7692 - val_loss: 0.5511 - val_acc: 0.7547\n",
            "Epoch 10/30\n",
            "7352/7352 [==============================] - 30s 4ms/step - loss: 0.4841 - acc: 0.7836 - val_loss: 0.5430 - val_acc: 0.7472\n",
            "Epoch 11/30\n",
            "7352/7352 [==============================] - 30s 4ms/step - loss: 0.5075 - acc: 0.7784 - val_loss: 0.5865 - val_acc: 0.7455\n",
            "Epoch 12/30\n",
            "7352/7352 [==============================] - 30s 4ms/step - loss: 0.4861 - acc: 0.7794 - val_loss: 0.5751 - val_acc: 0.7567\n",
            "Epoch 13/30\n",
            "7352/7352 [==============================] - 30s 4ms/step - loss: 0.4333 - acc: 0.7979 - val_loss: 0.5614 - val_acc: 0.7540\n",
            "Epoch 14/30\n",
            "7352/7352 [==============================] - 30s 4ms/step - loss: 0.4000 - acc: 0.8058 - val_loss: 0.6981 - val_acc: 0.7557\n",
            "Epoch 15/30\n",
            "7352/7352 [==============================] - 31s 4ms/step - loss: 0.4029 - acc: 0.8097 - val_loss: 0.5382 - val_acc: 0.7716\n",
            "Epoch 16/30\n",
            "7352/7352 [==============================] - 30s 4ms/step - loss: 0.4133 - acc: 0.8062 - val_loss: 0.4805 - val_acc: 0.7713\n",
            "Epoch 17/30\n",
            "7352/7352 [==============================] - 30s 4ms/step - loss: 0.3957 - acc: 0.8160 - val_loss: 0.4871 - val_acc: 0.7964\n",
            "Epoch 18/30\n",
            "7352/7352 [==============================] - 30s 4ms/step - loss: 0.3954 - acc: 0.8139 - val_loss: 0.6278 - val_acc: 0.7743\n",
            "Epoch 19/30\n",
            "7352/7352 [==============================] - 30s 4ms/step - loss: 0.4202 - acc: 0.8166 - val_loss: 0.6126 - val_acc: 0.7798\n",
            "Epoch 20/30\n",
            "7352/7352 [==============================] - 30s 4ms/step - loss: 0.3944 - acc: 0.8485 - val_loss: 0.5260 - val_acc: 0.8490\n",
            "Epoch 21/30\n",
            "7352/7352 [==============================] - 30s 4ms/step - loss: 0.3345 - acc: 0.8964 - val_loss: 0.3705 - val_acc: 0.8768\n",
            "Epoch 22/30\n",
            "7352/7352 [==============================] - 30s 4ms/step - loss: 0.2761 - acc: 0.9151 - val_loss: 0.3424 - val_acc: 0.9013\n",
            "Epoch 23/30\n",
            "7352/7352 [==============================] - 30s 4ms/step - loss: 0.2496 - acc: 0.9246 - val_loss: 0.2947 - val_acc: 0.9138\n",
            "Epoch 24/30\n",
            "7352/7352 [==============================] - 30s 4ms/step - loss: 0.2497 - acc: 0.9287 - val_loss: 0.2907 - val_acc: 0.9162\n",
            "Epoch 25/30\n",
            "7352/7352 [==============================] - 30s 4ms/step - loss: 0.2046 - acc: 0.9374 - val_loss: 0.4616 - val_acc: 0.8948\n",
            "Epoch 26/30\n",
            "7352/7352 [==============================] - 31s 4ms/step - loss: 0.1998 - acc: 0.9418 - val_loss: 0.2630 - val_acc: 0.9114\n",
            "Epoch 27/30\n",
            "7352/7352 [==============================] - 30s 4ms/step - loss: 0.2215 - acc: 0.9327 - val_loss: 0.3082 - val_acc: 0.9036\n",
            "Epoch 28/30\n",
            "7352/7352 [==============================] - 30s 4ms/step - loss: 0.2027 - acc: 0.9407 - val_loss: 0.2735 - val_acc: 0.9111\n",
            "Epoch 29/30\n",
            "7352/7352 [==============================] - 30s 4ms/step - loss: 0.2231 - acc: 0.9389 - val_loss: 0.2594 - val_acc: 0.9250\n",
            "Epoch 30/30\n",
            "7352/7352 [==============================] - 30s 4ms/step - loss: 0.1581 - acc: 0.9459 - val_loss: 0.2852 - val_acc: 0.9125\n"
          ],
          "name": "stdout"
        },
        {
          "output_type": "execute_result",
          "data": {
            "text/plain": [
              "<keras.callbacks.History at 0x7f2472985f98>"
            ]
          },
          "metadata": {
            "tags": []
          },
          "execution_count": 55
        }
      ]
    }
  ]
}